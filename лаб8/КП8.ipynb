{
 "cells": [
  {
   "cell_type": "markdown",
   "metadata": {
    "colab_type": "text",
    "id": "weuwGEo2mJBC"
   },
   "source": [
    "# Дисперсійний аналіз"
   ]
  },
  {
   "cell_type": "markdown",
   "metadata": {
    "colab_type": "text",
    "id": "ZUzN4OAhmxkD"
   },
   "source": [
    "##Теоретичні відомості"
   ]
  },
  {
   "cell_type": "markdown",
   "metadata": {
    "colab_type": "text",
    "id": "GCJ4px_JmMeY"
   },
   "source": [
    "**Дисперсійний аналіз** - статистичний метод дослідження взаємозв'язку. Застосовується для аналізу впливу якісної змінної  на одну залежну (кількісну) змінну.\n",
    "В основі дисперсійного аналізу лежить припущення, що одні змінні можливо розглядати як причини (незалежні змінні), інші - як наслідки (залежні змінні). Незалежні змінні в дисперсійному аналізі називають факторами.\n",
    " У зарубежній літературі дисперсійний аналіз часто обозначається як ANOVA, що переводиться як аналіз варіативності (Analysis of Variance).\n",
    "\n",
    "Дисперсійний аналіз - параметричний метод.\n",
    "\n",
    "\n"
   ]
  },
  {
   "cell_type": "markdown",
   "metadata": {
    "colab_type": "text",
    "id": "t1MGzbZKm0QY"
   },
   "source": [
    "### Область застосування"
   ]
  },
  {
   "cell_type": "markdown",
   "metadata": {
    "colab_type": "text",
    "id": "u6P7khWWm16u"
   },
   "source": [
    "ANOVA використовують для визначення статистичних відмінностей у *середніх* значення двох або більше групп."
   ]
  },
  {
   "cell_type": "markdown",
   "metadata": {
    "colab_type": "text",
    "id": "LOW2EJNpm5oi"
   },
   "source": [
    "### Вимоги до даних"
   ]
  },
  {
   "cell_type": "markdown",
   "metadata": {
    "colab_type": "text",
    "id": "ldtCTT-2m6tf"
   },
   "source": [
    "Ваші дані повинні відповідати наступним вимогам:\n",
    "1. Залежна змінна має бути безперервною (кількісною).\n",
    "2. Незалежна змінна має бути категоріальною (містити дві або більше груп).\n",
    "3. Групи є незалежними.\n",
    "4. Залежна змінна має нормальний розподіл.\n",
    "5. Однорідність дисперсій. Групи мають приблизно однакові дисперсії.\n",
    "6. Залежна змінна не містить викидів.\n",
    "7. Кожна група має містити принаймні 6 спостережень.\n",
    "8. Сбалансований дизайн. В ідеалі, групи мають бути однаковими за розміром.\n"
   ]
  },
  {
   "cell_type": "markdown",
   "metadata": {
    "colab_type": "text",
    "id": "zcDHzLIZm6_R"
   },
   "source": [
    "### Гіпотеза"
   ]
  },
  {
   "cell_type": "markdown",
   "metadata": {
    "colab_type": "text",
    "id": "pYFVPpI6m899"
   },
   "source": [
    "Гіпотеза, яка перевіряєть даним тестом може бути виражена наступним чином:\n",
    "\n",
    "$H_0 : μ_1  = μ_2 = ... =  μ_n $ («середні  незалежних груп рівні»)\n",
    "\n",
    "$H_1 : μ_1  ≠ μ_2 ≠ ... ≠ μ_n$ («середні  незалежних груп відмінні»)"
   ]
  },
  {
   "cell_type": "markdown",
   "metadata": {
    "colab_type": "text",
    "id": "zo71OMQ6m9HF"
   },
   "source": [
    "### Алгоритм розрахунку"
   ]
  },
  {
   "cell_type": "markdown",
   "metadata": {
    "colab_type": "text",
    "id": "XWDrm4xAnDiE"
   },
   "source": [
    "Припустимо, що є три незалежні групи кожна з яких пройшла тест на запам'ятовування 10 слів. Першій групі слова демонструвалися з низькою швидкістю - 1 слово в 5 секунд, другій  з середньою швидкістю - 1 слово в 2 секунди, і третій групі з великою швидкістю - 1 слово в секунду.\n",
    "\n",
    "Прикладом задачі, яка вирішується методом дисперсійного аналізу є аналіз впливу швидкості демонстрації слів на результат тесту. \n",
    "\n",
    "n  | Група 1 (низька швидкість) | Група 2 (середня швидкість) | Група 3 (висока швидкість) |\n",
    "------------- | ------------- |--------- | ------------- | \n",
    "1  | 8   | 7   | 4   | \n",
    "2  | 7   | 8   |5   | \n",
    "3  | 9   | 5   |3   |\n",
    "4  | 5   | 4   |6   | \n",
    "5  | 6  | 6   |2  |  \n",
    "6  | 8   | 7  |4  | \n",
    "Сума  | 43   | 37  |24   |\n",
    "Середні  | 7,17   | 3,17   |4  | \n",
    "\n",
    "Загальна сума - 104\n",
    "\n",
    "Основні величини для однофакторного дисперсійного аналізу:\n",
    "1. $T_c$, cуми індивідуальних значень по кожнії з груп: 43, 37, 24.\n",
    "2. $\\sum{T^2_c}$,  cума квадратів сумарних значень по кожній з груп: $43^2 +  37^2 + 24^2 = 3794$\n",
    "3. $c$, кількість умов (градацій фактора/ груп): 3\n",
    "4. $n$, кількість досліджень в групах: 6, 6, 6.\n",
    "5. $N$, загальна кількість досліджень: 18.\n",
    "6. $(\\sum{x_i})^2$, квадрат загальної суми індивідуальних значень: 10 816\n",
    "7. $\\frac{(\\sum{x_i})^2}{N}$,Константа, яку потрібно відняти від кожної суми квадратів:  600,9\n",
    "8. $x_i$, індивідуальне значення\n",
    "9. $\\sum({x_i}^2)$, сума квадратів індивідуальних значень.\n",
    "\n",
    "\n",
    "Тоді, послідовність операцій в однофакторному дисперсійному аналізі виглядає наступним чином:\n",
    "1. Розрахувати внутрішньогрупову дисперсію ($SS_{факт}$).\n",
    "\n",
    "$$ SS_{факт}  = \\frac{\\sum{T^2_c}}{n} - \\frac{(\\sum{x_i})^2}{N} = \\frac{3794}{6} - \\frac{10 816}{18} = 31,44$$\n",
    "\n",
    "2. Розрахувати загальногрупову дисперсію ($SS_{заг}$).\n",
    "$$ SS_{заг} = \\sum({x_i}^2) - \\frac{(\\sum{x_i})^2}{N} =  8^2+7^2+9^2+5^2+6^2+8^2+7^2+7^2+8^2+5^2+ 4^2+ 6^2+ 7^2+ 4^2+ 5^2+ 3^2+ 6^2+ 2^2+ 4^2 - \\frac{104^2}{18} = 63,11$$\n",
    "\n",
    "3. Розрахувати випадкову (залишкову) величину $SS_{вип}$\n",
    "$$ SS_{вип} = SS_{заг} - SS_{факт} = 63,11 -31,44 = 31,67 $$\n",
    "\n",
    "4. Визначити кількість ступенів свободи:\n",
    "$$d_{факт} = c - 1 = 3 - 1 = 2$$\n",
    "$$d_{заг} = N - 1 = 18 - 1 = 17$$\n",
    "$$d_{вип} = d_{заг} - d_{факт} = 17 - 2 = 15$$\n",
    "\n",
    "5. Розділити кожну SS на відповідне число ступенів свободи:\n",
    "$$MS_{факт} = \\frac{SS_{факт}}{d_{факт}} = \\frac{31,44}{2} = 15,72$$\n",
    "$$MS_{вип} = \\frac{SS_{вип}}{d_{вип}} = \\frac{31,67}{15} = 2,11$$\n",
    "\n",
    "6. Розрахувати значення $F_{емпір}$\n",
    "$$ F_{емпір} = \\frac{MS_{факт}}{MS_{вип}} = \\frac{15,72}{2,11} = 7,45 $$\n",
    "\n",
    "7. Визначити критичне значення F по таблиці критичних значень: \n",
    "\n",
    "$$F_{крит(2,15)} = 3,7 $$\n",
    "\n",
    "8. Співставити емпіричне та критичне значення F.\n",
    "\n",
    "При $F_{емпір} \\geq F_{крит(2,15)}$ нульова гіпотеза про рівність середніх відхиляється.\n",
    "\n",
    "$$7,45 > 3,7$$ - рівність середніх не підтверджена.\n"
   ]
  },
  {
   "cell_type": "markdown",
   "metadata": {
    "colab_type": "text",
    "id": "9qiU_OebnDpv"
   },
   "source": [
    "### Завдання"
   ]
  },
  {
   "cell_type": "markdown",
   "metadata": {
    "colab_type": "text",
    "id": "NlTSSN6x6yTz"
   },
   "source": [
    "1. Розрахувати та вивести у вигляді таблиці статистичні характиристики даних (середні та стандартні відхилення для кожної з груп).\n",
    "2. Побудувати графік розкиду в групах.\n",
    "3. Побудувати функцію, що реалізовує однофакторний дисперсійний аналіз.\n",
    "4. Вивести результати розрахунку кожного з етапів вказаних вище у вигляді таблиці.\n",
    "5. Перевірити результат роботи функції на реальних або сгенерованих даних. Зробити висновок."
   ]
  },
  {
   "cell_type": "code",
   "execution_count": 10,
   "metadata": {},
   "outputs": [],
   "source": [
    "import seaborn as sns\n",
    "import pandas as pd\n",
    "import numpy as np"
   ]
  },
  {
   "cell_type": "code",
   "execution_count": 12,
   "metadata": {},
   "outputs": [
    {
     "data": {
      "text/html": [
       "<div>\n",
       "<style scoped>\n",
       "    .dataframe tbody tr th:only-of-type {\n",
       "        vertical-align: middle;\n",
       "    }\n",
       "\n",
       "    .dataframe tbody tr th {\n",
       "        vertical-align: top;\n",
       "    }\n",
       "\n",
       "    .dataframe thead th {\n",
       "        text-align: right;\n",
       "    }\n",
       "</style>\n",
       "<table border=\"1\" class=\"dataframe\">\n",
       "  <thead>\n",
       "    <tr style=\"text-align: right;\">\n",
       "      <th></th>\n",
       "      <th>Кількість мешканців гуртожитку до карантину</th>\n",
       "      <th>Кількість мешканців гуртожитку під час карантину</th>\n",
       "      <th>Кількість мешканців гуртожитку літом</th>\n",
       "    </tr>\n",
       "    <tr>\n",
       "      <th>номер гуртожитку</th>\n",
       "      <th></th>\n",
       "      <th></th>\n",
       "      <th></th>\n",
       "    </tr>\n",
       "  </thead>\n",
       "  <tbody>\n",
       "    <tr>\n",
       "      <td>1</td>\n",
       "      <td>865</td>\n",
       "      <td>223</td>\n",
       "      <td>13</td>\n",
       "    </tr>\n",
       "    <tr>\n",
       "      <td>2</td>\n",
       "      <td>232</td>\n",
       "      <td>122</td>\n",
       "      <td>43</td>\n",
       "    </tr>\n",
       "    <tr>\n",
       "      <td>3</td>\n",
       "      <td>546</td>\n",
       "      <td>211</td>\n",
       "      <td>76</td>\n",
       "    </tr>\n",
       "    <tr>\n",
       "      <td>4</td>\n",
       "      <td>342</td>\n",
       "      <td>111</td>\n",
       "      <td>56</td>\n",
       "    </tr>\n",
       "    <tr>\n",
       "      <td>5</td>\n",
       "      <td>654</td>\n",
       "      <td>323</td>\n",
       "      <td>53</td>\n",
       "    </tr>\n",
       "    <tr>\n",
       "      <td>6</td>\n",
       "      <td>545</td>\n",
       "      <td>455</td>\n",
       "      <td>45</td>\n",
       "    </tr>\n",
       "    <tr>\n",
       "      <td>7</td>\n",
       "      <td>546</td>\n",
       "      <td>231</td>\n",
       "      <td>67</td>\n",
       "    </tr>\n",
       "    <tr>\n",
       "      <td>8</td>\n",
       "      <td>154</td>\n",
       "      <td>342</td>\n",
       "      <td>253</td>\n",
       "    </tr>\n",
       "    <tr>\n",
       "      <td>9</td>\n",
       "      <td>343</td>\n",
       "      <td>345</td>\n",
       "      <td>45</td>\n",
       "    </tr>\n",
       "    <tr>\n",
       "      <td>10</td>\n",
       "      <td>344</td>\n",
       "      <td>121</td>\n",
       "      <td>67</td>\n",
       "    </tr>\n",
       "  </tbody>\n",
       "</table>\n",
       "</div>"
      ],
      "text/plain": [
       "                  Кількість мешканців гуртожитку до карантину  \\\n",
       "номер гуртожитку                                                \n",
       "1                                                         865   \n",
       "2                                                         232   \n",
       "3                                                         546   \n",
       "4                                                         342   \n",
       "5                                                         654   \n",
       "6                                                         545   \n",
       "7                                                         546   \n",
       "8                                                         154   \n",
       "9                                                         343   \n",
       "10                                                        344   \n",
       "\n",
       "                  Кількість мешканців гуртожитку під час карантину  \\\n",
       "номер гуртожитку                                                     \n",
       "1                                                              223   \n",
       "2                                                              122   \n",
       "3                                                              211   \n",
       "4                                                              111   \n",
       "5                                                              323   \n",
       "6                                                              455   \n",
       "7                                                              231   \n",
       "8                                                              342   \n",
       "9                                                              345   \n",
       "10                                                             121   \n",
       "\n",
       "                  Кількість мешканців гуртожитку літом  \n",
       "номер гуртожитку                                        \n",
       "1                                                   13  \n",
       "2                                                   43  \n",
       "3                                                   76  \n",
       "4                                                   56  \n",
       "5                                                   53  \n",
       "6                                                   45  \n",
       "7                                                   67  \n",
       "8                                                  253  \n",
       "9                                                   45  \n",
       "10                                                  67  "
      ]
     },
     "execution_count": 12,
     "metadata": {},
     "output_type": "execute_result"
    }
   ],
   "source": [
    "data = pd.DataFrame({\n",
    "    \"Кількість мешканців гуртожитку до карантину\":     [865, 232, 546, 342, 654, 545, 546, 154, 343, 344],\n",
    "    \"Кількість мешканців гуртожитку під час карантину\":[223, 122, 211, 111, 323, 455, 231, 342, 345, 121],\n",
    "    \"Кількість мешканців гуртожитку літом\":         [13, 43, 76, 56, 53, 45, 67, 253, 45, 67]\n",
    "}, index=np.arange(1, len(data)+1))\n",
    "data.index.name = 'номер гуртожитку'\n",
    "n = data.shape[0]\n",
    "\n",
    "data"
   ]
  },
  {
   "cell_type": "code",
   "execution_count": 13,
   "metadata": {},
   "outputs": [
    {
     "data": {
      "text/html": [
       "<div>\n",
       "<style scoped>\n",
       "    .dataframe tbody tr th:only-of-type {\n",
       "        vertical-align: middle;\n",
       "    }\n",
       "\n",
       "    .dataframe tbody tr th {\n",
       "        vertical-align: top;\n",
       "    }\n",
       "\n",
       "    .dataframe thead th {\n",
       "        text-align: right;\n",
       "    }\n",
       "</style>\n",
       "<table border=\"1\" class=\"dataframe\">\n",
       "  <thead>\n",
       "    <tr style=\"text-align: right;\">\n",
       "      <th></th>\n",
       "      <th>Кількість мешканців гуртожитку до карантину</th>\n",
       "      <th>Кількість мешканців гуртожитку під час карантину</th>\n",
       "      <th>Кількість мешканців гуртожитку літом</th>\n",
       "    </tr>\n",
       "    <tr>\n",
       "      <th>n</th>\n",
       "      <th></th>\n",
       "      <th></th>\n",
       "      <th></th>\n",
       "    </tr>\n",
       "  </thead>\n",
       "  <tbody>\n",
       "    <tr>\n",
       "      <td>0</td>\n",
       "      <td>865.000000</td>\n",
       "      <td>223.000000</td>\n",
       "      <td>13.000000</td>\n",
       "    </tr>\n",
       "    <tr>\n",
       "      <td>1</td>\n",
       "      <td>232.000000</td>\n",
       "      <td>122.000000</td>\n",
       "      <td>43.000000</td>\n",
       "    </tr>\n",
       "    <tr>\n",
       "      <td>2</td>\n",
       "      <td>546.000000</td>\n",
       "      <td>211.000000</td>\n",
       "      <td>76.000000</td>\n",
       "    </tr>\n",
       "    <tr>\n",
       "      <td>3</td>\n",
       "      <td>342.000000</td>\n",
       "      <td>111.000000</td>\n",
       "      <td>56.000000</td>\n",
       "    </tr>\n",
       "    <tr>\n",
       "      <td>4</td>\n",
       "      <td>654.000000</td>\n",
       "      <td>323.000000</td>\n",
       "      <td>53.000000</td>\n",
       "    </tr>\n",
       "    <tr>\n",
       "      <td>5</td>\n",
       "      <td>545.000000</td>\n",
       "      <td>455.000000</td>\n",
       "      <td>45.000000</td>\n",
       "    </tr>\n",
       "    <tr>\n",
       "      <td>6</td>\n",
       "      <td>546.000000</td>\n",
       "      <td>231.000000</td>\n",
       "      <td>67.000000</td>\n",
       "    </tr>\n",
       "    <tr>\n",
       "      <td>7</td>\n",
       "      <td>154.000000</td>\n",
       "      <td>342.000000</td>\n",
       "      <td>253.000000</td>\n",
       "    </tr>\n",
       "    <tr>\n",
       "      <td>8</td>\n",
       "      <td>343.000000</td>\n",
       "      <td>345.000000</td>\n",
       "      <td>45.000000</td>\n",
       "    </tr>\n",
       "    <tr>\n",
       "      <td>9</td>\n",
       "      <td>344.000000</td>\n",
       "      <td>121.000000</td>\n",
       "      <td>67.000000</td>\n",
       "    </tr>\n",
       "    <tr>\n",
       "      <td>Середнє</td>\n",
       "      <td>457.100000</td>\n",
       "      <td>248.400000</td>\n",
       "      <td>71.800000</td>\n",
       "    </tr>\n",
       "    <tr>\n",
       "      <td>Стандартне відхилення</td>\n",
       "      <td>213.511098</td>\n",
       "      <td>115.361461</td>\n",
       "      <td>66.016496</td>\n",
       "    </tr>\n",
       "  </tbody>\n",
       "</table>\n",
       "</div>"
      ],
      "text/plain": [
       "                       Кількість мешканців гуртожитку до карантину  \\\n",
       "n                                                                    \n",
       "0                                                       865.000000   \n",
       "1                                                       232.000000   \n",
       "2                                                       546.000000   \n",
       "3                                                       342.000000   \n",
       "4                                                       654.000000   \n",
       "5                                                       545.000000   \n",
       "6                                                       546.000000   \n",
       "7                                                       154.000000   \n",
       "8                                                       343.000000   \n",
       "9                                                       344.000000   \n",
       "Середнє                                                 457.100000   \n",
       "Стандартне відхилення                                   213.511098   \n",
       "\n",
       "                       Кількість мешканців гуртожитку під час карантину  \\\n",
       "n                                                                         \n",
       "0                                                            223.000000   \n",
       "1                                                            122.000000   \n",
       "2                                                            211.000000   \n",
       "3                                                            111.000000   \n",
       "4                                                            323.000000   \n",
       "5                                                            455.000000   \n",
       "6                                                            231.000000   \n",
       "7                                                            342.000000   \n",
       "8                                                            345.000000   \n",
       "9                                                            121.000000   \n",
       "Середнє                                                      248.400000   \n",
       "Стандартне відхилення                                        115.361461   \n",
       "\n",
       "                       Кількість мешканців гуртожитку літом  \n",
       "n                                                            \n",
       "0                                                 13.000000  \n",
       "1                                                 43.000000  \n",
       "2                                                 76.000000  \n",
       "3                                                 56.000000  \n",
       "4                                                 53.000000  \n",
       "5                                                 45.000000  \n",
       "6                                                 67.000000  \n",
       "7                                                253.000000  \n",
       "8                                                 45.000000  \n",
       "9                                                 67.000000  \n",
       "Середнє                                           71.800000  \n",
       "Стандартне відхилення                             66.016496  "
      ]
     },
     "execution_count": 13,
     "metadata": {},
     "output_type": "execute_result"
    }
   ],
   "source": [
    "sum1=sum(data.iloc[:,0]/n)\n",
    "sum2=sum(data.iloc[:,1]/n)\n",
    "sum3=sum(data.iloc[:,2]/n)\n",
    "\n",
    "sd1=data.iloc[:,0].std()\n",
    "sd2=data.iloc[:,1].std()\n",
    "sd3=data.iloc[:,2].std()\n",
    "\n",
    "new_df = pd.DataFrame({\n",
    "    \"Кількість мешканців гуртожитку до карантину\":     [865, 232, 546, 342, 654, 545, 546, 154, 343, 344],\n",
    "    \"Кількість мешканців гуртожитку під час карантину\":[223, 122, 211, 111, 323, 455, 231, 342, 345, 121],\n",
    "    \"Кількість мешканців гуртожитку літом\":         [13, 43, 76, 56, 53, 45, 67, 253, 45, 67]\n",
    "})\n",
    "new_df.index.name = 'n'\n",
    "new_df.loc[\"Середнє\"] = [sum1,sum2,sum3]\n",
    "new_df.loc[\"Стандартне відхилення\"] = [sd1,sd2,sd3]\n",
    "\n",
    "new_df\n"
   ]
  },
  {
   "cell_type": "code",
   "execution_count": 14,
   "metadata": {},
   "outputs": [
    {
     "data": {
      "text/plain": [
       "<matplotlib.axes._subplots.AxesSubplot at 0x1a1a3a4b10>"
      ]
     },
     "execution_count": 14,
     "metadata": {},
     "output_type": "execute_result"
    },
    {
     "data": {
      "image/png": "[encoded data removed]",
      "text/plain": [
       "<Figure size 432x288 with 1 Axes>"
      ]
     },
     "metadata": {
      "needs_background": "light"
     },
     "output_type": "display_data"
    }
   ],
   "source": [
    "sns.boxplot(data=data, orient='h')\n"
   ]
  },
  {
   "cell_type": "code",
   "execution_count": 19,
   "metadata": {},
   "outputs": [],
   "source": [
    "def dispersia(data):\n",
    "    n = data.shape[0]\n",
    "    T1 = sum(data.iloc[:,0])\n",
    "    T2 = sum(data.iloc[:,1])\n",
    "    T3 = sum(data.iloc[:,2])\n",
    "    Tsum2 = pow(T1, 2) + pow(T2, 2) + pow(T3, 2)\n",
    "    c = data.shape[1]\n",
    "    N = n * c\n",
    "    sumXi2 = (T1 + T2 + T3) ** 2\n",
    "    const = sumXi2 / N\n",
    "    xi2 = 0\n",
    "    sumxi = 0\n",
    "    \n",
    "    for i in range (c):\n",
    "        for j in range(len(data.iloc[:,i-1])):\n",
    "            sumxi += (data.iloc[j][i])**2\n",
    "    \n",
    "    SSfact = Tsum2 / n - const\n",
    "    SSzagal = sumxi - const\n",
    "    SSvipadk = SSzagal - SSfact\n",
    "    \n",
    "    dfact = c - 1 \n",
    "    dzagal = N - 1 \n",
    "    dvipadk = dzagal - dfact\n",
    "    \n",
    "    MSfact = SSfact / dfact\n",
    "    MSvipadk = SSvipadk / dvipadk\n",
    "    \n",
    "    Femp = MSfact / MSvipadk\n",
    "    \n",
    "    print(\"Внутрішньогрупова дисперсія: \", SSfact)\n",
    "    print(\"Загальногрупова дисперсія: \", SSzagal)\n",
    "    print(\"Випадкова (залишкова) величина: \", SSvipadk)\n",
    "    print(\"d фактичне: \", dfact)\n",
    "    print(\"d загальне: \", dzagal)\n",
    "    print(\"d випадкове: \", dvipadk)\n",
    "    print(\"MS фактичне: \", MSfact)\n",
    "    print(\"MS випадкове: \", MSvipadk)\n",
    "    print(\"F емпіричне: \", Femp)\n",
    "    \n",
    "    Fkrit = pd.read_excel(\"_Таблиця критичних значень для критерію Фішера.xlsx_\").iloc[dvipadk,dfact]\n",
    "    print(\"Критичне значення F по таблиці критичних значень: \", Fkrit)\n",
    "    if(Femp >= Fkrit):\n",
    "        result = \"Нульова гіпотеза про рівність середніх відхиляється, тобто середні незалежних груп відмінні\"\n",
    "    else:\n",
    "        result = \"Нульова гіпотеза про рівність середніх приймається, рівність середніх підтверджена\"\n",
    "            \n",
    "\n",
    "    return result"
   ]
  },
  {
   "cell_type": "code",
   "execution_count": 20,
   "metadata": {},
   "outputs": [
    {
     "name": "stdout",
     "output_type": "stream",
     "text": [
      "Внутрішньогрупова дисперсія:  743997.8\n",
      "Загальногрупова дисперсія:  1313278.7\n",
      "Випадкова (залишкова) величина:  569280.8999999999\n",
      "d фактичне:  2\n",
      "d загальне:  29\n",
      "d випадкове:  27\n",
      "MS фактичне:  371998.9\n",
      "MS випадкове:  21084.477777777774\n",
      "F емпіричне:  17.64325889029476\n",
      "Критичне значення F по таблиці критичних значень:  3.3\n"
     ]
    },
    {
     "data": {
      "text/plain": [
       "'Нульова гіпотеза про рівність середніх відхиляється, тобто середні незалежних груп відмінні'"
      ]
     },
     "execution_count": 20,
     "metadata": {},
     "output_type": "execute_result"
    }
   ],
   "source": [
    "dispersia(data)\n"
   ]
  },
  {
   "cell_type": "code",
   "execution_count": null,
   "metadata": {},
   "outputs": [],
   "source": []
  }
 ],
 "metadata": {
  "colab": {
   "authorship_tag": "ABX9TyPz43bweI3Rw31Fk91MPGuX",
   "collapsed_sections": [],
   "name": "КП8.ipynb",
   "provenance": []
  },
  "kernelspec": {
   "display_name": "Python 3",
   "language": "python",
   "name": "python3"
  },
  "language_info": {
   "codemirror_mode": {
    "name": "ipython",
    "version": 3
   },
   "file_extension": ".py",
   "mimetype": "text/x-python",
   "name": "python",
   "nbconvert_exporter": "python",
   "pygments_lexer": "ipython3",
   "version": "3.7.4"
  }
 },
 "nbformat": 4,
 "nbformat_minor": 1
}
